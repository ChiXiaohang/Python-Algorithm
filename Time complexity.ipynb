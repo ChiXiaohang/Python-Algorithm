{
 "cells": [
  {
   "cell_type": "markdown",
   "metadata": {},
   "source": []
  },
  {
   "cell_type": "code",
   "execution_count": 1,
   "metadata": {},
   "outputs": [
    {
     "name": "stdout",
     "output_type": "stream",
     "text": [
      "a,b,c:0,50,50\n",
      "a,b,c:50,0,50\n",
      "Times: 137.7308428287506\n",
      "Finished:\n"
     ]
    }
   ],
   "source": [
    "import time\n",
    "\n",
    "start_time = time.time()\n",
    "\n",
    "for a in range(0,1001):\n",
    "    for b in range(0,1001):\n",
    "        for c in range(0,1001):\n",
    "            if a+b+c==100 and a**2+b**2==c**2:\n",
    "                print(\"a,b,c:%d,%d,%d\"%(a,b,c))\n",
    "\n",
    "end_time = time.time()\n",
    "print(\"Times:\", end_time-start_time,)\n",
    "print(\"Finished!\")"
   ]
  },
  {
   "cell_type": "code",
   "execution_count": 2,
   "metadata": {},
   "outputs": [
    {
     "name": "stdout",
     "output_type": "stream",
     "text": [
      "a,b,c:0,500,500\n",
      "a,b,c:200,375,425\n",
      "a,b,c:375,200,425\n",
      "a,b,c:500,0,500\n",
      "Times: 0.785454273223877\n",
      "Finished!\n"
     ]
    }
   ],
   "source": [
    "import time\n",
    "\n",
    "start_time = time.time()\n",
    "\n",
    "for a in range(0,1001):\n",
    "    for b in range(0,1001):\n",
    "        c = 1000-a-b\n",
    "        if a**2+b**2==c**2:\n",
    "            print(\"a,b,c:%d,%d,%d\"%(a,b,c))\n",
    "\n",
    "end_time = time.time()\n",
    "print(\"Times:\", end_time-start_time,)\n",
    "print(\"Finished!\")"
   ]
  },
  {
   "cell_type": "code",
   "execution_count": null,
   "metadata": {},
   "outputs": [],
   "source": []
  }
 ],
 "metadata": {
  "kernelspec": {
   "display_name": "Python 3.9.12 ('DL')",
   "language": "python",
   "name": "python3"
  },
  "language_info": {
   "codemirror_mode": {
    "name": "ipython",
    "version": 3
   },
   "file_extension": ".py",
   "mimetype": "text/x-python",
   "name": "python",
   "nbconvert_exporter": "python",
   "pygments_lexer": "ipython3",
   "version": "3.9.12"
  },
  "orig_nbformat": 4,
  "vscode": {
   "interpreter": {
    "hash": "29e552a1daefa0cd235d9368a58832b318b7200d12bf2e8e7e3ee05882fec5c3"
   }
  }
 },
 "nbformat": 4,
 "nbformat_minor": 2
}
